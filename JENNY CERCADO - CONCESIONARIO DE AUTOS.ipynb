{
 "cells": [
  {
   "cell_type": "code",
   "execution_count": 7,
   "metadata": {},
   "outputs": [],
   "source": [
    "import numpy as np\n",
    "A = 12500\n",
    "B = 11800\n",
    "C = 15900\n",
    "D = 25300"
   ]
  },
  {
   "cell_type": "code",
   "execution_count": 8,
   "metadata": {},
   "outputs": [
    {
     "data": {
      "text/plain": [
       "matrix([[12500, 12500, 12500, 12500],\n",
       "        [11800, 11800, 11800, 11800],\n",
       "        [15900, 15900, 15900, 15900],\n",
       "        [25300, 25300, 25300, 25300]])"
      ]
     },
     "execution_count": 8,
     "metadata": {},
     "output_type": "execute_result"
    }
   ],
   "source": [
    "PRECIO = np.matrix([[A,A,A,A],[B,B,B,B],[C,C,C,C],[D,D,D,D]])\n",
    "PRECIO"
   ]
  },
  {
   "cell_type": "code",
   "execution_count": 9,
   "metadata": {},
   "outputs": [
    {
     "data": {
      "text/plain": [
       "matrix([[10,  8, 12,  0],\n",
       "        [ 5,  6,  8,  0],\n",
       "        [ 8,  4, 14,  0],\n",
       "        [ 3,  2,  6,  0]])"
      ]
     },
     "execution_count": 9,
     "metadata": {},
     "output_type": "execute_result"
    }
   ],
   "source": [
    "CANTIDAD = np.matrix([[10,8,12,0],[5,6,8,0],[8,4,14,0],[3,2,6,0]])\n",
    "CANTIDAD"
   ]
  },
  {
   "cell_type": "code",
   "execution_count": 10,
   "metadata": {},
   "outputs": [
    {
     "data": {
      "text/plain": [
       "matrix([[125000, 100000, 150000,      0],\n",
       "        [ 59000,  70800,  94400,      0],\n",
       "        [127200,  63600, 222600,      0],\n",
       "        [ 75900,  50600, 151800,      0]])"
      ]
     },
     "execution_count": 10,
     "metadata": {},
     "output_type": "execute_result"
    }
   ],
   "source": [
    "TOTAL1 = np.multiply(PRECIO,CANTIDAD)\n",
    "TOTAL1"
   ]
  },
  {
   "cell_type": "code",
   "execution_count": 11,
   "metadata": {},
   "outputs": [
    {
     "data": {
      "text/plain": [
       "157500.0"
      ]
     },
     "execution_count": 11,
     "metadata": {},
     "output_type": "execute_result"
    }
   ],
   "source": [
    "ABRILA=(np.multiply(TOTAL1[0,2],0.05))+(TOTAL1[0,2])\n",
    "ABRILA"
   ]
  },
  {
   "cell_type": "code",
   "execution_count": 12,
   "metadata": {},
   "outputs": [
    {
     "data": {
      "text/plain": [
       "99120.0"
      ]
     },
     "execution_count": 12,
     "metadata": {},
     "output_type": "execute_result"
    }
   ],
   "source": [
    "ABRILB=(np.multiply(TOTAL1[1,2],0.05))+(TOTAL1[1,2])\n",
    "ABRILB"
   ]
  },
  {
   "cell_type": "code",
   "execution_count": 13,
   "metadata": {},
   "outputs": [
    {
     "data": {
      "text/plain": [
       "233730.0"
      ]
     },
     "execution_count": 13,
     "metadata": {},
     "output_type": "execute_result"
    }
   ],
   "source": [
    "ABRILC=(np.multiply(TOTAL1[2,2],0.05))+(TOTAL1[2,2])\n",
    "ABRILC"
   ]
  },
  {
   "cell_type": "code",
   "execution_count": 14,
   "metadata": {},
   "outputs": [
    {
     "data": {
      "text/plain": [
       "159390.0"
      ]
     },
     "execution_count": 14,
     "metadata": {},
     "output_type": "execute_result"
    }
   ],
   "source": [
    "ABRILD=(np.multiply(TOTAL1[3,2],0.05))+(TOTAL1[3,2])\n",
    "ABRILD"
   ]
  },
  {
   "cell_type": "code",
   "execution_count": 22,
   "metadata": {},
   "outputs": [
    {
     "data": {
      "text/plain": [
       "matrix([[125000, 100000, 150000, 157500],\n",
       "        [ 59000,  70800,  94400,  99120],\n",
       "        [127200,  63600, 222600, 233730],\n",
       "        [ 75900,  50600, 151800, 159390]])"
      ]
     },
     "execution_count": 22,
     "metadata": {},
     "output_type": "execute_result"
    }
   ],
   "source": [
    "CANTIDAD1 = np.matrix([[125000,100000,150000,ABRILA],[59000,70800,94400,ABRILB],[127200,63600,222600,ABRILC],[75900,50600,151800,ABRILD]])\n",
    "CANTIDAD1.astype(int)"
   ]
  },
  {
   "cell_type": "code",
   "execution_count": 24,
   "metadata": {},
   "outputs": [
    {
     "name": "stdout",
     "output_type": "stream",
     "text": [
      "LO RECAUDADO EN EL MES DE ENERO ES:  387100.0\n"
     ]
    }
   ],
   "source": [
    "ENERO = np.sum(CANTIDAD1[0:,0])\n",
    "print(\"LO RECAUDADO EN EL MES DE ENERO ES: \",ENERO)"
   ]
  },
  {
   "cell_type": "code",
   "execution_count": 25,
   "metadata": {},
   "outputs": [
    {
     "name": "stdout",
     "output_type": "stream",
     "text": [
      "LO RECAUDADO EN EL MES DE FEBRERO ES:  285000.0\n"
     ]
    }
   ],
   "source": [
    "FEBRERO = np.sum(CANTIDAD1[0:,1])\n",
    "print(\"LO RECAUDADO EN EL MES DE FEBRERO ES: \",FEBRERO)"
   ]
  },
  {
   "cell_type": "code",
   "execution_count": 26,
   "metadata": {},
   "outputs": [
    {
     "name": "stdout",
     "output_type": "stream",
     "text": [
      "LO RECAUDADO EN EL MES DE MARZO ES:  618800.0\n"
     ]
    }
   ],
   "source": [
    "MARZO = np.sum(CANTIDAD1[0:,2])\n",
    "print(\"LO RECAUDADO EN EL MES DE MARZO ES: \",MARZO)"
   ]
  },
  {
   "cell_type": "code",
   "execution_count": 27,
   "metadata": {},
   "outputs": [
    {
     "name": "stdout",
     "output_type": "stream",
     "text": [
      "LO RECAUDADO EN EL MES DE ABRIL ES:  649740.0\n"
     ]
    }
   ],
   "source": [
    "ABRIL = np.sum(CANTIDAD1[0:,3])\n",
    "print(\"LO RECAUDADO EN EL MES DE ABRIL ES: \",ABRIL)"
   ]
  },
  {
   "cell_type": "code",
   "execution_count": 28,
   "metadata": {},
   "outputs": [
    {
     "data": {
      "text/plain": [
       "1940640.0"
      ]
     },
     "execution_count": 28,
     "metadata": {},
     "output_type": "execute_result"
    }
   ],
   "source": [
    "TOTAL3 = ENERO+FEBRERO+MARZO+ABRIL\n",
    "TOTAL3"
   ]
  }
 ],
 "metadata": {
  "kernelspec": {
   "display_name": "Python 3",
   "language": "python",
   "name": "python3"
  },
  "language_info": {
   "codemirror_mode": {
    "name": "ipython",
    "version": 3
   },
   "file_extension": ".py",
   "mimetype": "text/x-python",
   "name": "python",
   "nbconvert_exporter": "python",
   "pygments_lexer": "ipython3",
   "version": "3.7.0"
  }
 },
 "nbformat": 4,
 "nbformat_minor": 2
}
