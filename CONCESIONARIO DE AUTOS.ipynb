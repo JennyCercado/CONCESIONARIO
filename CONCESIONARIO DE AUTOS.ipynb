{
 "cells": [
  {
   "cell_type": "code",
   "execution_count": 7,
   "metadata": {},
   "outputs": [
    {
     "data": {
      "text/plain": [
       "25300"
      ]
     },
     "execution_count": 7,
     "metadata": {},
     "output_type": "execute_result"
    }
   ],
   "source": [
    "import numpy as np\n",
    "A = 12500\n",
    "B = 11800\n",
    "C = 15900\n",
    "D = 25300"
   ]
  },
  {
   "cell_type": "code",
   "execution_count": 23,
   "metadata": {},
   "outputs": [
    {
     "data": {
      "text/plain": [
       "matrix([[12500, 12500, 12500, 12500],\n",
       "        [11800, 11800, 11800, 11800],\n",
       "        [15900, 15900, 15900, 15900],\n",
       "        [25300, 25300, 25300, 25300]])"
      ]
     },
     "execution_count": 23,
     "metadata": {},
     "output_type": "execute_result"
    }
   ],
   "source": [
    "PRECIO = np.matrix([[A,A,A,A],[B,B,B,B],[C,C,C,C],[D,D,D,D]])\n",
    "PRECIO"
   ]
  },
  {
   "cell_type": "code",
   "execution_count": null,
   "metadata": {},
   "outputs": [],
   "source": [
    "E = "
   ]
  },
  {
   "cell_type": "code",
   "execution_count": 24,
   "metadata": {},
   "outputs": [
    {
     "data": {
      "text/plain": [
       "matrix([[10,  8, 12,  0],\n",
       "        [ 5,  6,  8,  0],\n",
       "        [ 8,  4, 14,  0],\n",
       "        [ 3,  2,  6,  0]])"
      ]
     },
     "execution_count": 24,
     "metadata": {},
     "output_type": "execute_result"
    }
   ],
   "source": [
    "CANTIDAD = np.matrix([[10,8,12,0],[5,6,8,0],[8,4,14,0],[3,2,6,0]])\n",
    "CANTIDAD"
   ]
  },
  {
   "cell_type": "code",
   "execution_count": 49,
   "metadata": {},
   "outputs": [
    {
     "data": {
      "text/plain": [
       "matrix([[125000, 100000, 150000,      0],\n",
       "        [ 59000,  70800,  94400,      0],\n",
       "        [127200,  63600, 222600,      0],\n",
       "        [ 75900,  50600, 151800,      0]])"
      ]
     },
     "execution_count": 49,
     "metadata": {},
     "output_type": "execute_result"
    }
   ],
   "source": [
    "TOTAL1 = np.multiply(PRECIO,CANTIDAD)\n",
    "TOTAL1"
   ]
  },
  {
   "cell_type": "code",
   "execution_count": 63,
   "metadata": {},
   "outputs": [
    {
     "data": {
      "text/plain": [
       "157500.0"
      ]
     },
     "execution_count": 63,
     "metadata": {},
     "output_type": "execute_result"
    }
   ],
   "source": [
    "ABRILA=(np.multiply(TOTAL1[0,2],0.05))+(TOTAL1[0,2])\n",
    "ABRILA"
   ]
  },
  {
   "cell_type": "code",
   "execution_count": 64,
   "metadata": {},
   "outputs": [
    {
     "data": {
      "text/plain": [
       "99120.0"
      ]
     },
     "execution_count": 64,
     "metadata": {},
     "output_type": "execute_result"
    }
   ],
   "source": [
    "ABRILB=(np.multiply(TOTAL1[1,2],0.05))+(TOTAL1[1,2])\n",
    "ABRILB"
   ]
  },
  {
   "cell_type": "code",
   "execution_count": 65,
   "metadata": {},
   "outputs": [
    {
     "data": {
      "text/plain": [
       "233730.0"
      ]
     },
     "execution_count": 65,
     "metadata": {},
     "output_type": "execute_result"
    }
   ],
   "source": [
    "ABRILC=(np.multiply(TOTAL1[2,2],0.05))+(TOTAL1[2,2])\n",
    "ABRILC"
   ]
  },
  {
   "cell_type": "code",
   "execution_count": 66,
   "metadata": {},
   "outputs": [
    {
     "data": {
      "text/plain": [
       "159390.0"
      ]
     },
     "execution_count": 66,
     "metadata": {},
     "output_type": "execute_result"
    }
   ],
   "source": [
    "ABRILD=(np.multiply(TOTAL1[3,2],0.05))+(TOTAL1[3,2])\n",
    "ABRILD"
   ]
  },
  {
   "cell_type": "code",
   "execution_count": 91,
   "metadata": {},
   "outputs": [
    {
     "data": {
      "text/plain": [
       "matrix([[1.0000e+01, 8.0000e+00, 1.2000e+01, 1.5750e+05],\n",
       "        [5.0000e+00, 6.0000e+00, 8.0000e+00, 9.9120e+04],\n",
       "        [8.0000e+00, 4.0000e+00, 1.4000e+01, 2.3373e+05],\n",
       "        [3.0000e+00, 2.0000e+00, 6.0000e+00, 1.5939e+05]])"
      ]
     },
     "execution_count": 91,
     "metadata": {},
     "output_type": "execute_result"
    }
   ],
   "source": [
    "CANTIDAD1 = np.matrix([[10,8,12,ABRILA],[5,6,8,ABRILB],[8,4,14,ABRILC],[3,2,6,ABRILD]])\n",
    "CANTIDAD1"
   ]
  },
  {
   "cell_type": "code",
   "execution_count": 92,
   "metadata": {},
   "outputs": [
    {
     "data": {
      "text/plain": [
       "matrix([[1.250000e+05, 1.000000e+05, 1.500000e+05, 1.968750e+09],\n",
       "        [5.900000e+04, 7.080000e+04, 9.440000e+04, 1.169616e+09],\n",
       "        [1.272000e+05, 6.360000e+04, 2.226000e+05, 3.716307e+09],\n",
       "        [7.590000e+04, 5.060000e+04, 1.518000e+05, 4.032567e+09]])"
      ]
     },
     "execution_count": 92,
     "metadata": {},
     "output_type": "execute_result"
    }
   ],
   "source": [
    "TOTAL2 = np.multiply(PRECIO,CANTIDAD1)\n",
    "TOTAL2"
   ]
  },
  {
   "cell_type": "code",
   "execution_count": 93,
   "metadata": {},
   "outputs": [
    {
     "name": "stdout",
     "output_type": "stream",
     "text": [
      "LO RECAUDADO EN EL MES DE ENERO ES:  387100.0\n"
     ]
    }
   ],
   "source": [
    "ENERO = np.sum(TOTAL2[0:,0])\n",
    "print(\"LO RECAUDADO EN EL MES DE ENERO ES: \",ENERO)"
   ]
  },
  {
   "cell_type": "code",
   "execution_count": 94,
   "metadata": {},
   "outputs": [
    {
     "name": "stdout",
     "output_type": "stream",
     "text": [
      "LO RECAUDADO EN EL MES DE FEBRERO ES:  285000.0\n"
     ]
    }
   ],
   "source": [
    "FEBRERO = np.sum(TOTAL2[0:,1])\n",
    "print(\"LO RECAUDADO EN EL MES DE FEBRERO ES: \",FEBRERO)"
   ]
  },
  {
   "cell_type": "code",
   "execution_count": 95,
   "metadata": {},
   "outputs": [
    {
     "name": "stdout",
     "output_type": "stream",
     "text": [
      "LO RECAUDADO EN EL MES DE MARZO ES:  618800.0\n"
     ]
    }
   ],
   "source": [
    "MARZO = np.sum(TOTAL2[0:,2])\n",
    "print(\"LO RECAUDADO EN EL MES DE MARZO ES: \",MARZO)"
   ]
  },
  {
   "cell_type": "code",
   "execution_count": 96,
   "metadata": {},
   "outputs": [
    {
     "name": "stdout",
     "output_type": "stream",
     "text": [
      "LO RECAUDADO EN EL MES DE ABRIL ES:  10887240000.0\n"
     ]
    }
   ],
   "source": [
    "ABRIL = np.sum(TOTAL2[0:,3])\n",
    "print(\"LO RECAUDADO EN EL MES DE ABRIL ES: \",ABRIL)"
   ]
  },
  {
   "cell_type": "code",
   "execution_count": 97,
   "metadata": {},
   "outputs": [
    {
     "data": {
      "text/plain": [
       "10888530900.0"
      ]
     },
     "execution_count": 97,
     "metadata": {},
     "output_type": "execute_result"
    }
   ],
   "source": [
    "TOTAL3 = np.sum(TOTAL2)\n",
    "TOTAL3"
   ]
  },
  {
   "cell_type": "code",
   "execution_count": null,
   "metadata": {},
   "outputs": [],
   "source": []
  }
 ],
 "metadata": {
  "kernelspec": {
   "display_name": "Python 3",
   "language": "python",
   "name": "python3"
  },
  "language_info": {
   "codemirror_mode": {
    "name": "ipython",
    "version": 3
   },
   "file_extension": ".py",
   "mimetype": "text/x-python",
   "name": "python",
   "nbconvert_exporter": "python",
   "pygments_lexer": "ipython3",
   "version": "3.7.0"
  }
 },
 "nbformat": 4,
 "nbformat_minor": 2
}
